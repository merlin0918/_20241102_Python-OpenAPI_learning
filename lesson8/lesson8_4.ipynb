{
 "cells": [
  {
   "cell_type": "code",
   "execution_count": null,
   "metadata": {},
   "outputs": [],
   "source": [
    "from tools import fetch_youbike_data\n",
    "import pandas as pd\n",
    "youbike_data:list[dict] = fetch_youbike_data()\n",
    "def map_func(value:dict)->str:\n",
    "   return value['sarea'] \n",
    "\n",
    "duplicate_map = map(map_func,youbike_data)\n",
    "unique_map = set(duplicate_map)\n",
    "area_list = list(unique_map)\n",
    "area_list"
   ]
  },
  {
   "cell_type": "code",
   "execution_count": null,
   "metadata": {},
   "outputs": [],
   "source": [
    "from tools import fetch_youbike_data\n",
    "import pandas as pd\n",
    "youbike_data:list[dict] = fetch_youbike_data()\n",
    "\n",
    "area_list = list(set(map(lambda value:value['sarea'],youbike_data)))\n",
    "area_list"
   ]
  }
 ],
 "metadata": {
  "kernelspec": {
   "display_name": "base",
   "language": "python",
   "name": "python3"
  },
  "language_info": {
   "name": "python",
   "version": "3.12.7"
  }
 },
 "nbformat": 4,
 "nbformat_minor": 2
}
