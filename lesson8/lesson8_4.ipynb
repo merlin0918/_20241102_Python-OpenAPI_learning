{
 "cells": [
  {
   "cell_type": "code",
   "execution_count": null,
   "metadata": {},
   "outputs": [],
   "source": [
    "from tools import fetch-youbike_data\n",
    "from \n",
    "youbike_data:list[dict]=fetch_youbike_data\n",
    "pprint(youbike_data)\n"
   ]
  }
 ],
 "metadata": {
  "kernelspec": {
   "display_name": "base",
   "language": "python",
   "name": "python3"
  },
  "language_info": {
   "name": "python",
   "version": "3.12.7"
  }
 },
 "nbformat": 4,
 "nbformat_minor": 2
}
