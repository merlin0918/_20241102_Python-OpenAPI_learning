{
 "cells": [
  {
   "cell_type": "code",
   "execution_count": null,
   "metadata": {},
   "outputs": [],
   "source": [
    "from tools import fetch_youbike_data\n",
    "import pandas as pd\n",
    "youbike_data:list[dict] = fetch_youbike_data()\n",
    "def map_func(value:dict)->str:\n",
    "   return value['sarea'] \n",
    "\n",
    "duplicate_map = map(map_func,youbike_data)\n",
    "unique_map = set(duplicate_map)\n",
    "area_list = list(unique_map)\n",
    "area_list"
   ]
  },
  {
   "cell_type": "code",
   "execution_count": null,
   "metadata": {},
   "outputs": [
    {
     "ename": "",
     "evalue": "",
     "output_type": "error",
     "traceback": [
      "\u001b[1;31m執行具有 'base (Python 3.12.7)' 的儲存格需要 ipykernel 套件。\n",
      "\u001b[1;31m執行下列命令以將 'ipykernel' 安裝到 Python 環境中。\n",
      "\u001b[1;31m命令: 'conda install -n base ipykernel --update-deps --force-reinstall'"
     ]
    }
   ],
   "source": [
    "from tools import fetch_youbike_data\n",
    "import pandas as pd\n",
    "youbike_data:list[dict] = fetch_youbike_data()\n",
    "\n",
    "area_list = list(set(map(lambda value:value['sarea'],youbike_data)))\n",
    "area_list"
   ]
  },
  {
   "cell_type": "code",
   "execution_count": null,
   "metadata": {},
   "outputs": [],
   "source": []
  }
 ],
 "metadata": {
  "kernelspec": {
   "display_name": "base",
   "language": "python",
   "name": "python3"
  },
  "language_info": {
   "name": "python",
   "version": "3.12.7"
  }
 },
 "nbformat": 4,
 "nbformat_minor": 2
}
