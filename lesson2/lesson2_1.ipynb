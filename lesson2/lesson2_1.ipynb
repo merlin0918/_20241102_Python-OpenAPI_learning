{
 "cells": [
  {
   "cell_type": "code",
   "execution_count": null,
   "metadata": {},
   "outputs": [],
   "source": [
    "print(\"Hello!\")"
   ]
  },
  {
   "cell_type": "code",
   "execution_count": 10,
   "metadata": {},
   "outputs": [
    {
     "name": "stdout",
     "output_type": "stream",
     "text": [
      "315.0\n"
     ]
    }
   ],
   "source": [
    "#學生總分為300\n",
    "#有些可以加分5%\n",
    "\n",
    "scores=int(input('請輸入學生分數(最高300分):'))\n",
    "is_add=input('學生是否符合加分條件?(y,n)')\n",
    "\n",
    "if is_add=='y':\n",
    "    scores=scores*1.05\n",
    "\n",
    "print(scores)"
   ]
  },
  {
   "cell_type": "code",
   "execution_count": 12,
   "metadata": {},
   "outputs": [
    {
     "name": "stdout",
     "output_type": "stream",
     "text": [
      "300\n"
     ]
    }
   ],
   "source": [
    "#學生總分為300\n",
    "#有些可以加分5%\n",
    "#如果加分超過300，就以300分為準\n",
    "\n",
    "scores=int(input('請輸入學生分數(最高300分):'))\n",
    "is_add=input('學生是否符合加分條件?(y,n)')\n",
    "\n",
    "if is_add=='y':\n",
    "    scores=scores*1.05\n",
    "    if scores>300:\n",
    "        scores=300\n",
    "\n",
    "print(scores)"
   ]
  },
  {
   "cell_type": "code",
   "execution_count": 2,
   "metadata": {},
   "outputs": [
    {
     "name": "stdout",
     "output_type": "stream",
     "text": [
      "格式錯誤\n"
     ]
    },
    {
     "ename": "NameError",
     "evalue": "name 'scores' is not defined",
     "output_type": "error",
     "traceback": [
      "\u001b[0;31m---------------------------------------------------------------------------\u001b[0m",
      "\u001b[0;31mNameError\u001b[0m                                 Traceback (most recent call last)",
      "Cell \u001b[0;32mIn[2], line 12\u001b[0m\n\u001b[1;32m      9\u001b[0m is_add\u001b[38;5;241m=\u001b[39m\u001b[38;5;28minput\u001b[39m(\u001b[38;5;124m'\u001b[39m\u001b[38;5;124m學生是否符合加分條件?(y,n)\u001b[39m\u001b[38;5;124m'\u001b[39m)\n\u001b[1;32m     11\u001b[0m \u001b[38;5;28;01mif\u001b[39;00m is_add\u001b[38;5;241m==\u001b[39m\u001b[38;5;124m'\u001b[39m\u001b[38;5;124my\u001b[39m\u001b[38;5;124m'\u001b[39m:\n\u001b[0;32m---> 12\u001b[0m     scores\u001b[38;5;241m=\u001b[39m\u001b[43mscores\u001b[49m\u001b[38;5;241m*\u001b[39m\u001b[38;5;241m1.05\u001b[39m\n\u001b[1;32m     13\u001b[0m     \u001b[38;5;28;01mif\u001b[39;00m scores\u001b[38;5;241m>\u001b[39m\u001b[38;5;241m300\u001b[39m:\n\u001b[1;32m     14\u001b[0m         scores\u001b[38;5;241m=\u001b[39m\u001b[38;5;241m300\u001b[39m\n",
      "\u001b[0;31mNameError\u001b[0m: name 'scores' is not defined"
     ]
    }
   ],
   "source": [
    "#學生總分為300\n",
    "#有些可以加分5%\n",
    "#如果加分超過300，就以300分為準\n",
    "try:\n",
    "        scores=int(input('請輸入學生分數(最高300分):'))\n",
    "except ValueError:\n",
    "    print(\"格式錯誤\")\n",
    "\n",
    "is_add=input('學生是否符合加分條件?(y,n)')\n",
    "\n",
    "if is_add=='y':\n",
    "    scores=scores*1.05\n",
    "    if scores>300:\n",
    "        scores=300\n",
    "\n",
    "print(scores)"
   ]
  },
  {
   "cell_type": "code",
   "execution_count": 4,
   "metadata": {},
   "outputs": [
    {
     "name": "stdout",
     "output_type": "stream",
     "text": [
      "262.5\n",
      "應用程式結束\n"
     ]
    }
   ],
   "source": [
    "#學生總分為300\n",
    "#有些可以加分5%\n",
    "#如果加分超過300，就以300分為準\n",
    "try:\n",
    "    scores=int(input('請輸入學生分數(最高300分):'))\n",
    "    is_add=input('學生是否符合加分條件?(y,n)')\n",
    "\n",
    "    if is_add=='y':\n",
    "        scores=scores*1.05\n",
    "        if scores>300:\n",
    "            scores=300\n",
    "\n",
    "    print(scores) \n",
    "except ValueError:\n",
    "    print(\"格式錯誤\")\n",
    "\n",
    "print(\"應用程式結束\")\n"
   ]
  },
  {
   "cell_type": "code",
   "execution_count": 7,
   "metadata": {},
   "outputs": [
    {
     "name": "stdout",
     "output_type": "stream",
     "text": [
      "格式錯誤\n",
      "應用程式結束\n"
     ]
    }
   ],
   "source": [
    "#學生總分為300\n",
    "#有些可以加分5%\n",
    "#如果加分超過300，就以300分為準\n",
    "try:\n",
    "    scores=int(input('請輸入學生分數(最高300分):'))\n",
    "    is_add=input('學生是否符合加分條件?(y,n)')\n",
    "\n",
    "    if is_add=='y':\n",
    "        scores=scores*1.05\n",
    "        if scores>300:\n",
    "            scores=300\n",
    "\n",
    "    print(scores) \n",
    "except ValueError:\n",
    "    print(\"格式錯誤\")\n",
    "except NameError:\n",
    "     print(\"名字錯誤\")\n",
    "except Exception:\n",
    "    print(\"不知名的錯誤\")\n",
    "\n",
    "print(\"應用程式結束\")\n"
   ]
  },
  {
   "cell_type": "code",
   "execution_count": 8,
   "metadata": {},
   "outputs": [
    {
     "name": "stdout",
     "output_type": "stream",
     "text": [
      "262.5\n",
      "應用程式結束\n"
     ]
    }
   ],
   "source": [
    "#學生總分為300\n",
    "#有些可以加分5%\n",
    "#如果加分超過300，就以300分為準\n",
    "try:\n",
    "    scores=int(input('請輸入學生分數(最高300分):'))\n",
    "    is_add=input('學生是否符合加分條件?(y,n)')\n",
    "\n",
    "    if is_add=='y':\n",
    "        scores=scores*1.05\n",
    "        if scores>300:\n",
    "            scores=300\n",
    "\n",
    "    print(scores) \n",
    "except Exception:\n",
    "    print(\"發生錯誤\")\n",
    "\n",
    "print(\"應用程式結束\")"
   ]
  },
  {
   "cell_type": "code",
   "execution_count": 5,
   "metadata": {},
   "outputs": [
    {
     "name": "stdout",
     "output_type": "stream",
     "text": [
      "發生錯誤\n",
      "應用程式結束\n"
     ]
    }
   ],
   "source": [
    "#學生總分為300\n",
    "#有些可以加分5%\n",
    "#如果加分超過300，就以300分為準\n",
    "try:\n",
    "    scores=int(input('請輸入學生分數(最高300分):'))\n",
    "except Exception:\n",
    "    print(\"發生錯誤\")\n",
    "else:\n",
    "    is_add=input('學生是否符合加分條件?(y,n)')\n",
    "\n",
    "    if is_add=='y':\n",
    "        scores=scores*1.05\n",
    "        if scores>300:\n",
    "            scores=300\n",
    "\n",
    "    print(scores) \n",
    "\n",
    "\n",
    "print(\"應用程式結束\")"
   ]
  },
  {
   "cell_type": "code",
   "execution_count": 12,
   "metadata": {},
   "outputs": [
    {
     "name": "stdout",
     "output_type": "stream",
     "text": [
      "學生的分數是:265分\n",
      "學生的分數是:265分\n",
      "應用程式結束\n"
     ]
    }
   ],
   "source": [
    "#學生總分為300\n",
    "#有些可以加分5%\n",
    "#如果加分超過300，就以300分為準\n",
    "try:\n",
    "    scores=int(input('請輸入學生分數(最高300分):'))\n",
    "except Exception:\n",
    "    print(\"發生錯誤\")\n",
    "else:\n",
    "    is_add=input('學生是否符合加分條件?(y,n)')\n",
    "\n",
    "    if is_add=='y':\n",
    "        scores=scores*1.05\n",
    "        if scores>300:\n",
    "            scores=300\n",
    "\n",
    "    print(\"學生的分數是:\"+str(scores) +\"分\")\n",
    "    print(f\"學生的分數是:{scores}分\")\n",
    "\n",
    "\n",
    "print(\"應用程式結束\")"
   ]
  }
 ],
 "metadata": {
  "kernelspec": {
   "display_name": "base",
   "language": "python",
   "name": "python3"
  },
  "language_info": {
   "codemirror_mode": {
    "name": "ipython",
    "version": 3
   },
   "file_extension": ".py",
   "mimetype": "text/x-python",
   "name": "python",
   "nbconvert_exporter": "python",
   "pygments_lexer": "ipython3",
   "version": "3.12.2"
  }
 },
 "nbformat": 4,
 "nbformat_minor": 2
}
