{
 "cells": [
  {
   "cell_type": "code",
   "execution_count": 1,
   "metadata": {},
   "outputs": [
    {
     "name": "stdout",
     "output_type": "stream",
     "text": [
      "特優\n"
     ]
    }
   ],
   "source": [
    "scores=int(input('請輸入學生分數:'))\n",
    "if scores>=90:\n",
    "    print(\"特優\")\n",
    "else: \n",
    "    if scores>=60:\n",
    "        print(\"及格\")\n",
    "    else:\n",
    "        print(\"不及格\")"
   ]
  },
  {
   "cell_type": "code",
   "execution_count": 4,
   "metadata": {},
   "outputs": [
    {
     "name": "stdout",
     "output_type": "stream",
     "text": [
      "不及格\n"
     ]
    }
   ],
   "source": [
    "scores=int(input('請輸入學生分數:'))\n",
    "if scores>=90:\n",
    "    print(\"特優\")\n",
    "elif scores>=60:\n",
    "        print(\"及格\")\n",
    "else:\n",
    "        print(\"不及格\")"
   ]
  },
  {
   "cell_type": "markdown",
   "metadata": {},
   "source": [
    "- 90(含)~100分為「優」\n",
    "- 80(含)~89分為「甲」\n",
    "- 70(含)~79分為「乙」\n",
    "- 60(含)~69分為「丙」\n",
    "- 0(含)~59分為「丁」"
   ]
  },
  {
   "cell_type": "code",
   "execution_count": 5,
   "metadata": {},
   "outputs": [
    {
     "name": "stdout",
     "output_type": "stream",
     "text": [
      "丁\n"
     ]
    }
   ],
   "source": [
    "scores=int(input('請輸入學生分數'))\n",
    "if scores>=90:\n",
    "    print(\"優\")\n",
    "elif scores>=80:\n",
    "    print(\"甲\")\n",
    "elif scores>=70:\n",
    "    print(\"乙\")\n",
    "elif scores>=60:\n",
    "    print(\"丙\")\n",
    "else:\n",
    "    print(\"丁\")\n"
   ]
  },
  {
   "cell_type": "code",
   "execution_count": null,
   "metadata": {},
   "outputs": [
    {
     "name": "stdout",
     "output_type": "stream",
     "text": [
      "獎金:500元\n"
     ]
    }
   ],
   "source": [
    "#巢狀判斷\n",
    "#國文100分，同時數學100分，獎金1000\n",
    "#國文100分，或者數學100分，獎金500\n",
    "#不然0\n",
    "\n",
    "chinese=int(input(\"請輸入國文分數\"))\n",
    "match=int(input(\"請輸入數學分數\"))\n",
    "\n",
    "if chinese==100:\n",
    "    if match==100:\n",
    "        bouns=1000\n",
    "    else:\n",
    "        bouns=500\n",
    "elif math==100:\n",
    "    bouns=500\n",
    "else:\n",
    "    bouns=0\n",
    "\n",
    "print(f'獎金:{bouns}元')"
   ]
  },
  {
   "cell_type": "code",
   "execution_count": 6,
   "metadata": {},
   "outputs": [
    {
     "name": "stdout",
     "output_type": "stream",
     "text": [
      "獎金:0元\n"
     ]
    }
   ],
   "source": [
    "#巢狀判斷\n",
    "#國文100分，同時數學100分，獎金1000\n",
    "#國文100分，或者數學100分，獎金500\n",
    "#不然0\n",
    "\n",
    "chinese=int(input(\"請輸入國文分數\"))\n",
    "match=int(input(\"請輸入數學分數\"))\n",
    "\n",
    "if chinese==100 and match==100:\n",
    "    bouns=1000\n",
    "elif chinese==100 or match==100:\n",
    "    bounsus=500\n",
    "else: \n",
    "    bouns=0   \n",
    "\n",
    "print(f'獎金:{bouns}元')"
   ]
  },
  {
   "cell_type": "code",
   "execution_count": null,
   "metadata": {},
   "outputs": [
    {
     "ename": "",
     "evalue": "",
     "output_type": "error",
     "traceback": [
      "\u001b[1;31m執行具有 'base (Python 3.12.7)' 的儲存格需要 ipykernel 套件。\n",
      "\u001b[1;31m執行下列命令以將 'ipykernel' 安裝到 Python 環境中。\n",
      "\u001b[1;31m命令: 'conda install -n base ipykernel --update-deps --force-reinstall'"
     ]
    }
   ],
   "source": [
    "try:\n",
    "height_cm = float(input(\"請輸入您的身高（公分）：\"))\n",
    "weight_kg = float(input(\"請輸入您的體重（公斤）：\"))\n",
    "\n",
    "if height_cm <= 0 or weight_kg <= 0:\n",
    "    print(\"身高和體重必須是正數。請重新輸入。\")\n",
    "else:\n",
    "    height_m = height_cm / 100  # 身高轉換為公尺\n",
    "    bmi = weight_kg / (height_m ** 2)  # BMI計算公式\n",
    "    \n",
    "    print(f'您的身高為：{height_cm} 公分')\n",
    "    print(f'您的體重為：{weight_kg} 公斤')\n",
    "    print(f\"您的BMI值為：{bmi:.2f}\")\n",
    "    \n",
    "    if 18.5 <= bmi < 24:\n",
    "        print(\"您的BMI在正常範圍內。\")\n",
    "    elif 24 <= bmi < 27:\n",
    "        print(\"您的BMI屬於過重範圍。\")\n",
    "    elif 27 <= bmi < 30:\n",
    "        print(\"您的BMI屬於輕度肥胖範圍。\")\n",
    "    elif 30 <= bmi < 35:\n",
    "        print(\"您的BMI屬於中度肥胖範圍。\")\n",
    "    elif bmi >= 35:\n",
    "        print(\"您的BMI屬於重度肥胖範圍。\")\n",
    "    else:\n",
    "        print(\"您的BMI屬於過輕範圍。\")"
   ]
  }
 ],
 "metadata": {
  "kernelspec": {
   "display_name": "base",
   "language": "python",
   "name": "python3"
  },
  "language_info": {
   "codemirror_mode": {
    "name": "ipython",
    "version": 3
   },
   "file_extension": ".py",
   "mimetype": "text/x-python",
   "name": "python",
   "nbconvert_exporter": "python",
   "pygments_lexer": "ipython3",
   "version": "3.12.7"
  }
 },
 "nbformat": 4,
 "nbformat_minor": 2
}
