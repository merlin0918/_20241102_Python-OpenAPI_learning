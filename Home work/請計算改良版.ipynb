{
 "cells": [
  {
   "cell_type": "code",
   "execution_count": 1,
   "metadata": {},
   "outputs": [
    {
     "name": "stdout",
     "output_type": "stream",
     "text": [
      "異常範圍\n",
      "過重\n",
      "請輸入身高（公分):154公分\n",
      "請輸入體重（公斤):61公斤\n",
      "您的BMI是:25.72103221453871\n",
      "您的體重是:61公斤\n"
     ]
    }
   ],
   "source": [
    "try: \n",
    "    height = int(input(\"請輸入身高（公分):\"))\n",
    "    weight = int(input(\"請輸入體重（公斤):\"))\n",
    "except Exception:\n",
    "    print('輸入格式錯誤')\n",
    "else:\n",
    "    bmi = weight / (height / 100) ** 2\n",
    "    \n",
    "    if bmi >= 35 or bmi >= 24 or bmi < 18.5:\n",
    "        print(\"異常範圍\")\n",
    "        if bmi >= 35 :\n",
    "            print(\"重度肥胖\")\n",
    "        elif bmi >= 30 and bmi < 35:\n",
    "            print(\"中度肥胖\")\n",
    "        elif bmi >= 27 and bmi < 30:\n",
    "            print(\"中度肥胖\")\n",
    "        elif bmi >= 24 and bmi < 27:\n",
    "            print(\"過重\")\n",
    "        elif bmi < 18.5:\n",
    "            print(\"體重過輕\") \n",
    " \n",
    "    elif bmi >=18.5 and bmi < 24:\n",
    "        print(\"正常範圍\")  \n",
    "    \n",
    "\n",
    "print(f\"請輸入身高（公分):{height}公分\")\n",
    "print(f\"請輸入體重（公斤):{weight}公斤\")   \n",
    "print(f\"您的BMI是:{bmi}\")\n",
    "print(f\"您的體重是:{weight}公斤\")\n"
   ]
  }
 ],
 "metadata": {
  "kernelspec": {
   "display_name": "base",
   "language": "python",
   "name": "python3"
  },
  "language_info": {
   "codemirror_mode": {
    "name": "ipython",
    "version": 3
   },
   "file_extension": ".py",
   "mimetype": "text/x-python",
   "name": "python",
   "nbconvert_exporter": "python",
   "pygments_lexer": "ipython3",
   "version": "3.12.4"
  }
 },
 "nbformat": 4,
 "nbformat_minor": 2
}
