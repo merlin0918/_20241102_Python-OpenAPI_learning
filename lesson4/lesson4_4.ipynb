{
 "cells": [
  {
   "cell_type": "code",
   "execution_count": 5,
   "metadata": {},
   "outputs": [],
   "source": [
    "class Person:\n",
    "    def __init__(self,name:str,age:int):\n",
    "         self.name = name#attribute\n",
    "         self.age = age#attribute\n",
    "\n",
    "    #實體方法(instance method)\n",
    "    def echo(self):\n",
    "         print(f'我的姓名是:{self.name}')\n",
    "         print(f'我的age是:{self.age}')"
   ]
  },
  {
   "cell_type": "code",
   "execution_count": null,
   "metadata": {},
   "outputs": [
    {
     "ename": "SyntaxError",
     "evalue": "invalid syntax (2355053367.py, line 2)",
     "output_type": "error",
     "traceback": [
      "\u001b[0;36m  Cell \u001b[0;32mIn[7], line 2\u001b[0;36m\u001b[0m\n\u001b[0;31m    def __init__(salf,name:str,age=:int):                                                                                                                                                                                                                __init__(self,name:str,age:int,score:int)\u001b[0m\n\u001b[0m                                   ^\u001b[0m\n\u001b[0;31mSyntaxError\u001b[0m\u001b[0;31m:\u001b[0m invalid syntax\n"
     ]
    }
   ],
   "source": [
    "class Student(Person):\n",
    "    def __init__ (salf,name:str,age=:int):                                                                                                                                                                                                                __init__(self,name:str,age:int,score:int)\n",
    "        super().__init__(name=name,age=age)\n",
    "        self.__score = score\n",
    "\n",
    "    @property\n",
    "    def score(self)->int:\n",
    "        return self.__score\n",
    "\n",
    "    def echo(self):\n",
    "        super().echo()\n",
    "        print(f'我的score是:{self.score}')"
   ]
  },
  {
   "cell_type": "code",
   "execution_count": null,
   "metadata": {},
   "outputs": [
    {
     "name": "stdout",
     "output_type": "stream",
     "text": [
      "我的姓名是:小張\n",
      "我的age是:17\n"
     ]
    }
   ],
   "source": [
    "s1:Student = Student('小張',age=17)\n",
    "s1.score\n",
    "s1.echo()"
   ]
  },
  {
   "cell_type": "code",
   "execution_count": 4,
   "metadata": {},
   "outputs": [
    {
     "name": "stdout",
     "output_type": "stream",
     "text": [
      "我的姓名是:小王\n",
      "我的age是:18\n"
     ]
    }
   ],
   "source": [
    "s2:Student=Student('小王',age=18)\n",
    "s2.echo()"
   ]
  }
 ],
 "metadata": {
  "kernelspec": {
   "display_name": "base",
   "language": "python",
   "name": "python3"
  },
  "language_info": {
   "codemirror_mode": {
    "name": "ipython",
    "version": 3
   },
   "file_extension": ".py",
   "mimetype": "text/x-python",
   "name": "python",
   "nbconvert_exporter": "python",
   "pygments_lexer": "ipython3",
   "version": "3.12.4"
  }
 },
 "nbformat": 4,
 "nbformat_minor": 2
}
